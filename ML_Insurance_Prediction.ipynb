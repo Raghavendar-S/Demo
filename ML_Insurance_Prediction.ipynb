{
  "nbformat": 4,
  "nbformat_minor": 0,
  "metadata": {
    "colab": {
      "provenance": []
    },
    "kernelspec": {
      "name": "python3",
      "display_name": "Python 3"
    }
  },
  "cells": [
    {
      "cell_type": "markdown",
      "metadata": {
        "id": "4yOHDDdJ2mvL"
      },
      "source": [
        "#### The aim is to predict either the customer is intereted or not in the buying the insurance"
      ]
    },
    {
      "cell_type": "markdown",
      "metadata": {
        "id": "FCHpTwRP27Pq"
      },
      "source": [
        "#### Reading the files of train and test datasets"
      ]
    },
    {
      "cell_type": "code",
      "metadata": {
        "id": "ZdABIsFw2k2q"
      },
      "source": [
        "import pandas as pd\n",
        "import numpy as np"
      ],
      "execution_count": null,
      "outputs": []
    },
    {
      "cell_type": "code",
      "metadata": {
        "id": "A8umNIHN34v2"
      },
      "source": [
        "clf_train = pd.read_csv(\"/content/TRAIN.csv\")\n",
        "clf_test = pd.read_csv(\"/content/TEST.csv\")"
      ],
      "execution_count": null,
      "outputs": []
    },
    {
      "cell_type": "code",
      "metadata": {
        "colab": {
          "base_uri": "https://localhost:8080/",
          "height": 218
        },
        "id": "C4OZx6Il4Jht",
        "outputId": "de74edb9-92cd-4a03-9133-ab3b05af6f0e"
      },
      "source": [
        "clf_train.head()"
      ],
      "execution_count": null,
      "outputs": [
        {
          "output_type": "execute_result",
          "data": {
            "text/html": [
              "<div>\n",
              "<style scoped>\n",
              "    .dataframe tbody tr th:only-of-type {\n",
              "        vertical-align: middle;\n",
              "    }\n",
              "\n",
              "    .dataframe tbody tr th {\n",
              "        vertical-align: top;\n",
              "    }\n",
              "\n",
              "    .dataframe thead th {\n",
              "        text-align: right;\n",
              "    }\n",
              "</style>\n",
              "<table border=\"1\" class=\"dataframe\">\n",
              "  <thead>\n",
              "    <tr style=\"text-align: right;\">\n",
              "      <th></th>\n",
              "      <th>id</th>\n",
              "      <th>Gender</th>\n",
              "      <th>Age</th>\n",
              "      <th>Driving_License</th>\n",
              "      <th>Region_Code</th>\n",
              "      <th>Previously_Insured</th>\n",
              "      <th>Vehicle_Age</th>\n",
              "      <th>Vehicle_Damage</th>\n",
              "      <th>Annual_Premium</th>\n",
              "      <th>Policy_Sales_Channel</th>\n",
              "      <th>Vintage</th>\n",
              "      <th>Response</th>\n",
              "    </tr>\n",
              "  </thead>\n",
              "  <tbody>\n",
              "    <tr>\n",
              "      <th>0</th>\n",
              "      <td>350957</td>\n",
              "      <td>Male</td>\n",
              "      <td>50</td>\n",
              "      <td>1</td>\n",
              "      <td>41</td>\n",
              "      <td>0</td>\n",
              "      <td>1-2 Year</td>\n",
              "      <td>Yes</td>\n",
              "      <td>35915</td>\n",
              "      <td>124</td>\n",
              "      <td>240</td>\n",
              "      <td>0</td>\n",
              "    </tr>\n",
              "    <tr>\n",
              "      <th>1</th>\n",
              "      <td>239788</td>\n",
              "      <td>Female</td>\n",
              "      <td>48</td>\n",
              "      <td>1</td>\n",
              "      <td>28</td>\n",
              "      <td>0</td>\n",
              "      <td>1-2 Year</td>\n",
              "      <td>Yes</td>\n",
              "      <td>26873</td>\n",
              "      <td>124</td>\n",
              "      <td>274</td>\n",
              "      <td>0</td>\n",
              "    </tr>\n",
              "    <tr>\n",
              "      <th>2</th>\n",
              "      <td>348272</td>\n",
              "      <td>Female</td>\n",
              "      <td>34</td>\n",
              "      <td>1</td>\n",
              "      <td>41</td>\n",
              "      <td>0</td>\n",
              "      <td>1-2 Year</td>\n",
              "      <td>Yes</td>\n",
              "      <td>2630</td>\n",
              "      <td>156</td>\n",
              "      <td>138</td>\n",
              "      <td>1</td>\n",
              "    </tr>\n",
              "    <tr>\n",
              "      <th>3</th>\n",
              "      <td>73940</td>\n",
              "      <td>Female</td>\n",
              "      <td>43</td>\n",
              "      <td>1</td>\n",
              "      <td>28</td>\n",
              "      <td>0</td>\n",
              "      <td>1-2 Year</td>\n",
              "      <td>Yes</td>\n",
              "      <td>46877</td>\n",
              "      <td>124</td>\n",
              "      <td>223</td>\n",
              "      <td>0</td>\n",
              "    </tr>\n",
              "    <tr>\n",
              "      <th>4</th>\n",
              "      <td>292871</td>\n",
              "      <td>Male</td>\n",
              "      <td>29</td>\n",
              "      <td>1</td>\n",
              "      <td>28</td>\n",
              "      <td>1</td>\n",
              "      <td>&lt; 1 Year</td>\n",
              "      <td>No</td>\n",
              "      <td>38009</td>\n",
              "      <td>152</td>\n",
              "      <td>106</td>\n",
              "      <td>0</td>\n",
              "    </tr>\n",
              "  </tbody>\n",
              "</table>\n",
              "</div>"
            ],
            "text/plain": [
              "       id  Gender  Age  ...  Policy_Sales_Channel  Vintage  Response\n",
              "0  350957    Male   50  ...                   124      240         0\n",
              "1  239788  Female   48  ...                   124      274         0\n",
              "2  348272  Female   34  ...                   156      138         1\n",
              "3   73940  Female   43  ...                   124      223         0\n",
              "4  292871    Male   29  ...                   152      106         0\n",
              "\n",
              "[5 rows x 12 columns]"
            ]
          },
          "metadata": {
            "tags": []
          },
          "execution_count": 2330
        }
      ]
    },
    {
      "cell_type": "code",
      "metadata": {
        "colab": {
          "base_uri": "https://localhost:8080/"
        },
        "id": "haN3njNU4L2M",
        "outputId": "506e89a6-7081-4465-f9a8-3f5497e605c3"
      },
      "source": [
        "clf_train.columns"
      ],
      "execution_count": null,
      "outputs": [
        {
          "output_type": "execute_result",
          "data": {
            "text/plain": [
              "Index(['id', 'Gender', 'Age', 'Driving_License', 'Region_Code',\n",
              "       'Previously_Insured', 'Vehicle_Age', 'Vehicle_Damage', 'Annual_Premium',\n",
              "       'Policy_Sales_Channel', 'Vintage', 'Response'],\n",
              "      dtype='object')"
            ]
          },
          "metadata": {
            "tags": []
          },
          "execution_count": 2331
        }
      ]
    },
    {
      "cell_type": "code",
      "metadata": {
        "colab": {
          "base_uri": "https://localhost:8080/"
        },
        "id": "MoRElR6n4Tpm",
        "outputId": "54bb412a-315f-4c71-b9c2-33366a0f811b"
      },
      "source": [
        "clf_train.shape"
      ],
      "execution_count": null,
      "outputs": [
        {
          "output_type": "execute_result",
          "data": {
            "text/plain": [
              "(304887, 12)"
            ]
          },
          "metadata": {
            "tags": []
          },
          "execution_count": 2332
        }
      ]
    },
    {
      "cell_type": "code",
      "metadata": {
        "colab": {
          "base_uri": "https://localhost:8080/"
        },
        "id": "vZNRXQP94cQE",
        "outputId": "4cbbbd5b-4f68-4821-e9be-a8ff4a865abf"
      },
      "source": [
        "clf_test.shape"
      ],
      "execution_count": null,
      "outputs": [
        {
          "output_type": "execute_result",
          "data": {
            "text/plain": [
              "(76222, 11)"
            ]
          },
          "metadata": {
            "tags": []
          },
          "execution_count": 2333
        }
      ]
    },
    {
      "cell_type": "markdown",
      "metadata": {
        "id": "V7fGcN8C4kzX"
      },
      "source": [
        "#####displaying the unique values of the target variable"
      ]
    },
    {
      "cell_type": "code",
      "metadata": {
        "colab": {
          "base_uri": "https://localhost:8080/"
        },
        "id": "lsslqTfL4f2M",
        "outputId": "7967ca42-e32a-4b4d-dcb5-2e6d2bdf9c33"
      },
      "source": [
        "clf_train[\"Response\"].unique()"
      ],
      "execution_count": null,
      "outputs": [
        {
          "output_type": "execute_result",
          "data": {
            "text/plain": [
              "array([0, 1])"
            ]
          },
          "metadata": {
            "tags": []
          },
          "execution_count": 2334
        }
      ]
    },
    {
      "cell_type": "markdown",
      "metadata": {
        "id": "Iwh9k8Am6Azp"
      },
      "source": [
        "####checking for the NaN values in the data set"
      ]
    },
    {
      "cell_type": "code",
      "metadata": {
        "colab": {
          "base_uri": "https://localhost:8080/"
        },
        "id": "nFB-hG8345Wc",
        "outputId": "327f9bb5-b428-4334-88d6-f28d65ed5b04"
      },
      "source": [
        "clf_train.isna().any()"
      ],
      "execution_count": null,
      "outputs": [
        {
          "output_type": "execute_result",
          "data": {
            "text/plain": [
              "id                      False\n",
              "Gender                  False\n",
              "Age                     False\n",
              "Driving_License         False\n",
              "Region_Code             False\n",
              "Previously_Insured      False\n",
              "Vehicle_Age             False\n",
              "Vehicle_Damage          False\n",
              "Annual_Premium          False\n",
              "Policy_Sales_Channel    False\n",
              "Vintage                 False\n",
              "Response                False\n",
              "dtype: bool"
            ]
          },
          "metadata": {
            "tags": []
          },
          "execution_count": 2335
        }
      ]
    },
    {
      "cell_type": "code",
      "metadata": {
        "colab": {
          "base_uri": "https://localhost:8080/"
        },
        "id": "ldqLCK1q4-fb",
        "outputId": "59379609-eeb8-4bfd-94d3-b8dd8e5bc585"
      },
      "source": [
        "clf_train[\"Response\"].value_counts()"
      ],
      "execution_count": null,
      "outputs": [
        {
          "output_type": "execute_result",
          "data": {
            "text/plain": [
              "0    267582\n",
              "1     37305\n",
              "Name: Response, dtype: int64"
            ]
          },
          "metadata": {
            "tags": []
          },
          "execution_count": 2336
        }
      ]
    },
    {
      "cell_type": "code",
      "metadata": {
        "colab": {
          "base_uri": "https://localhost:8080/",
          "height": 218
        },
        "id": "MNEqzr256-IA",
        "outputId": "3b4a645c-be61-4b50-fdf6-bcccb363123f"
      },
      "source": [
        "clf_train.head()"
      ],
      "execution_count": null,
      "outputs": [
        {
          "output_type": "execute_result",
          "data": {
            "text/html": [
              "<div>\n",
              "<style scoped>\n",
              "    .dataframe tbody tr th:only-of-type {\n",
              "        vertical-align: middle;\n",
              "    }\n",
              "\n",
              "    .dataframe tbody tr th {\n",
              "        vertical-align: top;\n",
              "    }\n",
              "\n",
              "    .dataframe thead th {\n",
              "        text-align: right;\n",
              "    }\n",
              "</style>\n",
              "<table border=\"1\" class=\"dataframe\">\n",
              "  <thead>\n",
              "    <tr style=\"text-align: right;\">\n",
              "      <th></th>\n",
              "      <th>id</th>\n",
              "      <th>Gender</th>\n",
              "      <th>Age</th>\n",
              "      <th>Driving_License</th>\n",
              "      <th>Region_Code</th>\n",
              "      <th>Previously_Insured</th>\n",
              "      <th>Vehicle_Age</th>\n",
              "      <th>Vehicle_Damage</th>\n",
              "      <th>Annual_Premium</th>\n",
              "      <th>Policy_Sales_Channel</th>\n",
              "      <th>Vintage</th>\n",
              "      <th>Response</th>\n",
              "    </tr>\n",
              "  </thead>\n",
              "  <tbody>\n",
              "    <tr>\n",
              "      <th>0</th>\n",
              "      <td>350957</td>\n",
              "      <td>Male</td>\n",
              "      <td>50</td>\n",
              "      <td>1</td>\n",
              "      <td>41</td>\n",
              "      <td>0</td>\n",
              "      <td>1-2 Year</td>\n",
              "      <td>Yes</td>\n",
              "      <td>35915</td>\n",
              "      <td>124</td>\n",
              "      <td>240</td>\n",
              "      <td>0</td>\n",
              "    </tr>\n",
              "    <tr>\n",
              "      <th>1</th>\n",
              "      <td>239788</td>\n",
              "      <td>Female</td>\n",
              "      <td>48</td>\n",
              "      <td>1</td>\n",
              "      <td>28</td>\n",
              "      <td>0</td>\n",
              "      <td>1-2 Year</td>\n",
              "      <td>Yes</td>\n",
              "      <td>26873</td>\n",
              "      <td>124</td>\n",
              "      <td>274</td>\n",
              "      <td>0</td>\n",
              "    </tr>\n",
              "    <tr>\n",
              "      <th>2</th>\n",
              "      <td>348272</td>\n",
              "      <td>Female</td>\n",
              "      <td>34</td>\n",
              "      <td>1</td>\n",
              "      <td>41</td>\n",
              "      <td>0</td>\n",
              "      <td>1-2 Year</td>\n",
              "      <td>Yes</td>\n",
              "      <td>2630</td>\n",
              "      <td>156</td>\n",
              "      <td>138</td>\n",
              "      <td>1</td>\n",
              "    </tr>\n",
              "    <tr>\n",
              "      <th>3</th>\n",
              "      <td>73940</td>\n",
              "      <td>Female</td>\n",
              "      <td>43</td>\n",
              "      <td>1</td>\n",
              "      <td>28</td>\n",
              "      <td>0</td>\n",
              "      <td>1-2 Year</td>\n",
              "      <td>Yes</td>\n",
              "      <td>46877</td>\n",
              "      <td>124</td>\n",
              "      <td>223</td>\n",
              "      <td>0</td>\n",
              "    </tr>\n",
              "    <tr>\n",
              "      <th>4</th>\n",
              "      <td>292871</td>\n",
              "      <td>Male</td>\n",
              "      <td>29</td>\n",
              "      <td>1</td>\n",
              "      <td>28</td>\n",
              "      <td>1</td>\n",
              "      <td>&lt; 1 Year</td>\n",
              "      <td>No</td>\n",
              "      <td>38009</td>\n",
              "      <td>152</td>\n",
              "      <td>106</td>\n",
              "      <td>0</td>\n",
              "    </tr>\n",
              "  </tbody>\n",
              "</table>\n",
              "</div>"
            ],
            "text/plain": [
              "       id  Gender  Age  ...  Policy_Sales_Channel  Vintage  Response\n",
              "0  350957    Male   50  ...                   124      240         0\n",
              "1  239788  Female   48  ...                   124      274         0\n",
              "2  348272  Female   34  ...                   156      138         1\n",
              "3   73940  Female   43  ...                   124      223         0\n",
              "4  292871    Male   29  ...                   152      106         0\n",
              "\n",
              "[5 rows x 12 columns]"
            ]
          },
          "metadata": {
            "tags": []
          },
          "execution_count": 2337
        }
      ]
    },
    {
      "cell_type": "code",
      "metadata": {
        "colab": {
          "base_uri": "https://localhost:8080/",
          "height": 218
        },
        "id": "XRb1OxbU7VXh",
        "outputId": "01ecfae4-80ee-4a3b-8082-750ca6befe48"
      },
      "source": [
        "clf_test.head()"
      ],
      "execution_count": null,
      "outputs": [
        {
          "output_type": "execute_result",
          "data": {
            "text/html": [
              "<div>\n",
              "<style scoped>\n",
              "    .dataframe tbody tr th:only-of-type {\n",
              "        vertical-align: middle;\n",
              "    }\n",
              "\n",
              "    .dataframe tbody tr th {\n",
              "        vertical-align: top;\n",
              "    }\n",
              "\n",
              "    .dataframe thead th {\n",
              "        text-align: right;\n",
              "    }\n",
              "</style>\n",
              "<table border=\"1\" class=\"dataframe\">\n",
              "  <thead>\n",
              "    <tr style=\"text-align: right;\">\n",
              "      <th></th>\n",
              "      <th>id</th>\n",
              "      <th>Gender</th>\n",
              "      <th>Age</th>\n",
              "      <th>Driving_License</th>\n",
              "      <th>Region_Code</th>\n",
              "      <th>Previously_Insured</th>\n",
              "      <th>Vehicle_Age</th>\n",
              "      <th>Vehicle_Damage</th>\n",
              "      <th>Annual_Premium</th>\n",
              "      <th>Policy_Sales_Channel</th>\n",
              "      <th>Vintage</th>\n",
              "    </tr>\n",
              "  </thead>\n",
              "  <tbody>\n",
              "    <tr>\n",
              "      <th>0</th>\n",
              "      <td>291378</td>\n",
              "      <td>Male</td>\n",
              "      <td>31</td>\n",
              "      <td>1</td>\n",
              "      <td>18</td>\n",
              "      <td>0</td>\n",
              "      <td>1-2 Year</td>\n",
              "      <td>Yes</td>\n",
              "      <td>2630</td>\n",
              "      <td>156</td>\n",
              "      <td>152</td>\n",
              "    </tr>\n",
              "    <tr>\n",
              "      <th>1</th>\n",
              "      <td>154746</td>\n",
              "      <td>Female</td>\n",
              "      <td>24</td>\n",
              "      <td>1</td>\n",
              "      <td>15</td>\n",
              "      <td>1</td>\n",
              "      <td>&lt; 1 Year</td>\n",
              "      <td>No</td>\n",
              "      <td>28105</td>\n",
              "      <td>152</td>\n",
              "      <td>267</td>\n",
              "    </tr>\n",
              "    <tr>\n",
              "      <th>2</th>\n",
              "      <td>218512</td>\n",
              "      <td>Female</td>\n",
              "      <td>25</td>\n",
              "      <td>1</td>\n",
              "      <td>14</td>\n",
              "      <td>1</td>\n",
              "      <td>&lt; 1 Year</td>\n",
              "      <td>No</td>\n",
              "      <td>29302</td>\n",
              "      <td>152</td>\n",
              "      <td>139</td>\n",
              "    </tr>\n",
              "    <tr>\n",
              "      <th>3</th>\n",
              "      <td>173930</td>\n",
              "      <td>Male</td>\n",
              "      <td>49</td>\n",
              "      <td>1</td>\n",
              "      <td>28</td>\n",
              "      <td>0</td>\n",
              "      <td>1-2 Year</td>\n",
              "      <td>Yes</td>\n",
              "      <td>28357</td>\n",
              "      <td>26</td>\n",
              "      <td>12</td>\n",
              "    </tr>\n",
              "    <tr>\n",
              "      <th>4</th>\n",
              "      <td>241471</td>\n",
              "      <td>Male</td>\n",
              "      <td>55</td>\n",
              "      <td>1</td>\n",
              "      <td>45</td>\n",
              "      <td>0</td>\n",
              "      <td>1-2 Year</td>\n",
              "      <td>Yes</td>\n",
              "      <td>33288</td>\n",
              "      <td>26</td>\n",
              "      <td>44</td>\n",
              "    </tr>\n",
              "  </tbody>\n",
              "</table>\n",
              "</div>"
            ],
            "text/plain": [
              "       id  Gender  Age  ...  Annual_Premium  Policy_Sales_Channel  Vintage\n",
              "0  291378    Male   31  ...            2630                   156      152\n",
              "1  154746  Female   24  ...           28105                   152      267\n",
              "2  218512  Female   25  ...           29302                   152      139\n",
              "3  173930    Male   49  ...           28357                    26       12\n",
              "4  241471    Male   55  ...           33288                    26       44\n",
              "\n",
              "[5 rows x 11 columns]"
            ]
          },
          "metadata": {
            "tags": []
          },
          "execution_count": 2338
        }
      ]
    },
    {
      "cell_type": "code",
      "metadata": {
        "colab": {
          "base_uri": "https://localhost:8080/"
        },
        "id": "i_RGh9b07oID",
        "outputId": "df3b1e89-7cd0-462a-d4e7-88c182c38224"
      },
      "source": [
        "clf_train[\"Vehicle_Age\"].unique()"
      ],
      "execution_count": null,
      "outputs": [
        {
          "output_type": "execute_result",
          "data": {
            "text/plain": [
              "array(['1-2 Year', '< 1 Year', '> 2 Years'], dtype=object)"
            ]
          },
          "metadata": {
            "tags": []
          },
          "execution_count": 2339
        }
      ]
    },
    {
      "cell_type": "markdown",
      "metadata": {
        "id": "xPLTTFj5-rf5"
      },
      "source": [
        "##### Converting the categorical data to numbers , we are doing label encoding, just I have raplaced it with 0 and 1,2 in the below sections"
      ]
    },
    {
      "cell_type": "code",
      "metadata": {
        "id": "xjosrLmB7-Z7"
      },
      "source": [
        "clf_train[\"Gender\"].replace([\"Male\",\"Female\"],[1,0],inplace = True)"
      ],
      "execution_count": null,
      "outputs": []
    },
    {
      "cell_type": "code",
      "metadata": {
        "colab": {
          "base_uri": "https://localhost:8080/"
        },
        "id": "2PTkDPRQ9Bax",
        "outputId": "ca298394-fd04-498d-ed20-5a367fd192f2"
      },
      "source": [
        "clf_train[\"Gender\"]"
      ],
      "execution_count": null,
      "outputs": [
        {
          "output_type": "execute_result",
          "data": {
            "text/plain": [
              "0         1\n",
              "1         0\n",
              "2         0\n",
              "3         0\n",
              "4         1\n",
              "         ..\n",
              "304882    1\n",
              "304883    1\n",
              "304884    0\n",
              "304885    0\n",
              "304886    0\n",
              "Name: Gender, Length: 304887, dtype: int64"
            ]
          },
          "metadata": {
            "tags": []
          },
          "execution_count": 2341
        }
      ]
    },
    {
      "cell_type": "code",
      "metadata": {
        "id": "QRV68OLS9EUZ"
      },
      "source": [
        "clf_train[\"Vehicle_Age\"].replace([\"1-2 Year\",\"< 1 Year\",\"> 2 Years\"],[1,0,2],inplace = True)"
      ],
      "execution_count": null,
      "outputs": []
    },
    {
      "cell_type": "code",
      "metadata": {
        "colab": {
          "base_uri": "https://localhost:8080/"
        },
        "id": "0zI-OSGS9g-P",
        "outputId": "6f1eee8f-ec41-416a-88e2-21e942a2d536"
      },
      "source": [
        "clf_train[\"Vehicle_Age\"].unique()"
      ],
      "execution_count": null,
      "outputs": [
        {
          "output_type": "execute_result",
          "data": {
            "text/plain": [
              "array([1, 0, 2])"
            ]
          },
          "metadata": {
            "tags": []
          },
          "execution_count": 2343
        }
      ]
    },
    {
      "cell_type": "code",
      "metadata": {
        "id": "Gp8meynI9qJA"
      },
      "source": [
        "clf_train[\"Vehicle_Damage\"].replace([\"Yes\",\"No\"],[1,0],inplace = True)"
      ],
      "execution_count": null,
      "outputs": []
    },
    {
      "cell_type": "code",
      "metadata": {
        "colab": {
          "base_uri": "https://localhost:8080/"
        },
        "id": "ORV02m6J98i_",
        "outputId": "04651a7b-9282-4bb4-bcf8-acd0634f8e80"
      },
      "source": [
        "clf_train[\"Vehicle_Damage\"].unique()"
      ],
      "execution_count": null,
      "outputs": [
        {
          "output_type": "execute_result",
          "data": {
            "text/plain": [
              "array([1, 0])"
            ]
          },
          "metadata": {
            "tags": []
          },
          "execution_count": 2345
        }
      ]
    },
    {
      "cell_type": "code",
      "metadata": {
        "colab": {
          "base_uri": "https://localhost:8080/",
          "height": 218
        },
        "id": "WHUdn9Iy-DDI",
        "outputId": "00831d9c-4aa5-4d23-b345-b3c106b3a53b"
      },
      "source": [
        "clf_train.head()"
      ],
      "execution_count": null,
      "outputs": [
        {
          "output_type": "execute_result",
          "data": {
            "text/html": [
              "<div>\n",
              "<style scoped>\n",
              "    .dataframe tbody tr th:only-of-type {\n",
              "        vertical-align: middle;\n",
              "    }\n",
              "\n",
              "    .dataframe tbody tr th {\n",
              "        vertical-align: top;\n",
              "    }\n",
              "\n",
              "    .dataframe thead th {\n",
              "        text-align: right;\n",
              "    }\n",
              "</style>\n",
              "<table border=\"1\" class=\"dataframe\">\n",
              "  <thead>\n",
              "    <tr style=\"text-align: right;\">\n",
              "      <th></th>\n",
              "      <th>id</th>\n",
              "      <th>Gender</th>\n",
              "      <th>Age</th>\n",
              "      <th>Driving_License</th>\n",
              "      <th>Region_Code</th>\n",
              "      <th>Previously_Insured</th>\n",
              "      <th>Vehicle_Age</th>\n",
              "      <th>Vehicle_Damage</th>\n",
              "      <th>Annual_Premium</th>\n",
              "      <th>Policy_Sales_Channel</th>\n",
              "      <th>Vintage</th>\n",
              "      <th>Response</th>\n",
              "    </tr>\n",
              "  </thead>\n",
              "  <tbody>\n",
              "    <tr>\n",
              "      <th>0</th>\n",
              "      <td>350957</td>\n",
              "      <td>1</td>\n",
              "      <td>50</td>\n",
              "      <td>1</td>\n",
              "      <td>41</td>\n",
              "      <td>0</td>\n",
              "      <td>1</td>\n",
              "      <td>1</td>\n",
              "      <td>35915</td>\n",
              "      <td>124</td>\n",
              "      <td>240</td>\n",
              "      <td>0</td>\n",
              "    </tr>\n",
              "    <tr>\n",
              "      <th>1</th>\n",
              "      <td>239788</td>\n",
              "      <td>0</td>\n",
              "      <td>48</td>\n",
              "      <td>1</td>\n",
              "      <td>28</td>\n",
              "      <td>0</td>\n",
              "      <td>1</td>\n",
              "      <td>1</td>\n",
              "      <td>26873</td>\n",
              "      <td>124</td>\n",
              "      <td>274</td>\n",
              "      <td>0</td>\n",
              "    </tr>\n",
              "    <tr>\n",
              "      <th>2</th>\n",
              "      <td>348272</td>\n",
              "      <td>0</td>\n",
              "      <td>34</td>\n",
              "      <td>1</td>\n",
              "      <td>41</td>\n",
              "      <td>0</td>\n",
              "      <td>1</td>\n",
              "      <td>1</td>\n",
              "      <td>2630</td>\n",
              "      <td>156</td>\n",
              "      <td>138</td>\n",
              "      <td>1</td>\n",
              "    </tr>\n",
              "    <tr>\n",
              "      <th>3</th>\n",
              "      <td>73940</td>\n",
              "      <td>0</td>\n",
              "      <td>43</td>\n",
              "      <td>1</td>\n",
              "      <td>28</td>\n",
              "      <td>0</td>\n",
              "      <td>1</td>\n",
              "      <td>1</td>\n",
              "      <td>46877</td>\n",
              "      <td>124</td>\n",
              "      <td>223</td>\n",
              "      <td>0</td>\n",
              "    </tr>\n",
              "    <tr>\n",
              "      <th>4</th>\n",
              "      <td>292871</td>\n",
              "      <td>1</td>\n",
              "      <td>29</td>\n",
              "      <td>1</td>\n",
              "      <td>28</td>\n",
              "      <td>1</td>\n",
              "      <td>0</td>\n",
              "      <td>0</td>\n",
              "      <td>38009</td>\n",
              "      <td>152</td>\n",
              "      <td>106</td>\n",
              "      <td>0</td>\n",
              "    </tr>\n",
              "  </tbody>\n",
              "</table>\n",
              "</div>"
            ],
            "text/plain": [
              "       id  Gender  Age  ...  Policy_Sales_Channel  Vintage  Response\n",
              "0  350957       1   50  ...                   124      240         0\n",
              "1  239788       0   48  ...                   124      274         0\n",
              "2  348272       0   34  ...                   156      138         1\n",
              "3   73940       0   43  ...                   124      223         0\n",
              "4  292871       1   29  ...                   152      106         0\n",
              "\n",
              "[5 rows x 12 columns]"
            ]
          },
          "metadata": {
            "tags": []
          },
          "execution_count": 2346
        }
      ]
    },
    {
      "cell_type": "markdown",
      "metadata": {
        "id": "ezlMR6s9_8gI"
      },
      "source": [
        "#### seperate the features and the target labels"
      ]
    },
    {
      "cell_type": "code",
      "metadata": {
        "id": "KZ3KdXmcAFRv"
      },
      "source": [
        "clf_features = clf_train.drop([\"Response\",\"id\",\"Region_Code\",\"Annual_Premium\"],axis=1)"
      ],
      "execution_count": null,
      "outputs": []
    },
    {
      "cell_type": "code",
      "metadata": {
        "colab": {
          "base_uri": "https://localhost:8080/",
          "height": 198
        },
        "id": "MtPQCdLhQNov",
        "outputId": "a7cdd5a3-87ba-4e65-ecd3-4f6b35d8aa83"
      },
      "source": [
        "clf_features.head()"
      ],
      "execution_count": null,
      "outputs": [
        {
          "output_type": "execute_result",
          "data": {
            "text/html": [
              "<div>\n",
              "<style scoped>\n",
              "    .dataframe tbody tr th:only-of-type {\n",
              "        vertical-align: middle;\n",
              "    }\n",
              "\n",
              "    .dataframe tbody tr th {\n",
              "        vertical-align: top;\n",
              "    }\n",
              "\n",
              "    .dataframe thead th {\n",
              "        text-align: right;\n",
              "    }\n",
              "</style>\n",
              "<table border=\"1\" class=\"dataframe\">\n",
              "  <thead>\n",
              "    <tr style=\"text-align: right;\">\n",
              "      <th></th>\n",
              "      <th>Gender</th>\n",
              "      <th>Age</th>\n",
              "      <th>Driving_License</th>\n",
              "      <th>Previously_Insured</th>\n",
              "      <th>Vehicle_Age</th>\n",
              "      <th>Vehicle_Damage</th>\n",
              "      <th>Policy_Sales_Channel</th>\n",
              "      <th>Vintage</th>\n",
              "    </tr>\n",
              "  </thead>\n",
              "  <tbody>\n",
              "    <tr>\n",
              "      <th>0</th>\n",
              "      <td>1</td>\n",
              "      <td>50</td>\n",
              "      <td>1</td>\n",
              "      <td>0</td>\n",
              "      <td>1</td>\n",
              "      <td>1</td>\n",
              "      <td>124</td>\n",
              "      <td>240</td>\n",
              "    </tr>\n",
              "    <tr>\n",
              "      <th>1</th>\n",
              "      <td>0</td>\n",
              "      <td>48</td>\n",
              "      <td>1</td>\n",
              "      <td>0</td>\n",
              "      <td>1</td>\n",
              "      <td>1</td>\n",
              "      <td>124</td>\n",
              "      <td>274</td>\n",
              "    </tr>\n",
              "    <tr>\n",
              "      <th>2</th>\n",
              "      <td>0</td>\n",
              "      <td>34</td>\n",
              "      <td>1</td>\n",
              "      <td>0</td>\n",
              "      <td>1</td>\n",
              "      <td>1</td>\n",
              "      <td>156</td>\n",
              "      <td>138</td>\n",
              "    </tr>\n",
              "    <tr>\n",
              "      <th>3</th>\n",
              "      <td>0</td>\n",
              "      <td>43</td>\n",
              "      <td>1</td>\n",
              "      <td>0</td>\n",
              "      <td>1</td>\n",
              "      <td>1</td>\n",
              "      <td>124</td>\n",
              "      <td>223</td>\n",
              "    </tr>\n",
              "    <tr>\n",
              "      <th>4</th>\n",
              "      <td>1</td>\n",
              "      <td>29</td>\n",
              "      <td>1</td>\n",
              "      <td>1</td>\n",
              "      <td>0</td>\n",
              "      <td>0</td>\n",
              "      <td>152</td>\n",
              "      <td>106</td>\n",
              "    </tr>\n",
              "  </tbody>\n",
              "</table>\n",
              "</div>"
            ],
            "text/plain": [
              "   Gender  Age  Driving_License  ...  Vehicle_Damage  Policy_Sales_Channel  Vintage\n",
              "0       1   50                1  ...               1                   124      240\n",
              "1       0   48                1  ...               1                   124      274\n",
              "2       0   34                1  ...               1                   156      138\n",
              "3       0   43                1  ...               1                   124      223\n",
              "4       1   29                1  ...               0                   152      106\n",
              "\n",
              "[5 rows x 8 columns]"
            ]
          },
          "metadata": {
            "tags": []
          },
          "execution_count": 2348
        }
      ]
    },
    {
      "cell_type": "code",
      "metadata": {
        "id": "wTlSz5n2A1X8"
      },
      "source": [
        "clf_target = pd.DataFrame(clf_train[\"Response\"])"
      ],
      "execution_count": null,
      "outputs": []
    },
    {
      "cell_type": "code",
      "metadata": {
        "colab": {
          "base_uri": "https://localhost:8080/",
          "height": 198
        },
        "id": "MgEuAeV-A7DF",
        "outputId": "795d10b8-104b-42be-9673-c81a31fd04ac"
      },
      "source": [
        "clf_target.head()"
      ],
      "execution_count": null,
      "outputs": [
        {
          "output_type": "execute_result",
          "data": {
            "text/html": [
              "<div>\n",
              "<style scoped>\n",
              "    .dataframe tbody tr th:only-of-type {\n",
              "        vertical-align: middle;\n",
              "    }\n",
              "\n",
              "    .dataframe tbody tr th {\n",
              "        vertical-align: top;\n",
              "    }\n",
              "\n",
              "    .dataframe thead th {\n",
              "        text-align: right;\n",
              "    }\n",
              "</style>\n",
              "<table border=\"1\" class=\"dataframe\">\n",
              "  <thead>\n",
              "    <tr style=\"text-align: right;\">\n",
              "      <th></th>\n",
              "      <th>Response</th>\n",
              "    </tr>\n",
              "  </thead>\n",
              "  <tbody>\n",
              "    <tr>\n",
              "      <th>0</th>\n",
              "      <td>0</td>\n",
              "    </tr>\n",
              "    <tr>\n",
              "      <th>1</th>\n",
              "      <td>0</td>\n",
              "    </tr>\n",
              "    <tr>\n",
              "      <th>2</th>\n",
              "      <td>1</td>\n",
              "    </tr>\n",
              "    <tr>\n",
              "      <th>3</th>\n",
              "      <td>0</td>\n",
              "    </tr>\n",
              "    <tr>\n",
              "      <th>4</th>\n",
              "      <td>0</td>\n",
              "    </tr>\n",
              "  </tbody>\n",
              "</table>\n",
              "</div>"
            ],
            "text/plain": [
              "   Response\n",
              "0         0\n",
              "1         0\n",
              "2         1\n",
              "3         0\n",
              "4         0"
            ]
          },
          "metadata": {
            "tags": []
          },
          "execution_count": 2350
        }
      ]
    },
    {
      "cell_type": "code",
      "metadata": {
        "colab": {
          "base_uri": "https://localhost:8080/"
        },
        "id": "v8fAlCO8-cvs",
        "outputId": "54359dc0-fbf2-4b45-b2bd-5e1974912796"
      },
      "source": [
        "clf_train[\"Region_Code\"].unique()"
      ],
      "execution_count": null,
      "outputs": [
        {
          "output_type": "execute_result",
          "data": {
            "text/plain": [
              "array([41, 28, 16, 46, 18, 39,  6, 35,  1, 38,  8, 24, 33, 30, 10, 25, 22,\n",
              "        3, 11, 50, 17, 15, 32, 47, 29, 21, 37,  9, 14, 48, 40, 23, 43, 45,\n",
              "        0, 36, 13,  2, 52, 34, 26, 31,  5, 27, 42,  7, 12,  4, 49, 20, 19,\n",
              "       44, 51])"
            ]
          },
          "metadata": {
            "tags": []
          },
          "execution_count": 2351
        }
      ]
    },
    {
      "cell_type": "code",
      "metadata": {
        "colab": {
          "base_uri": "https://localhost:8080/"
        },
        "id": "hM6a75Pb_HP2",
        "outputId": "7966756c-82e5-4b0c-c111-48435b27ce88"
      },
      "source": [
        "clf_train[\"Annual_Premium\"].unique()"
      ],
      "execution_count": null,
      "outputs": [
        {
          "output_type": "execute_result",
          "data": {
            "text/plain": [
              "array([ 35915,  26873,   2630, ...,  14914,  48852, 130427])"
            ]
          },
          "metadata": {
            "tags": []
          },
          "execution_count": 2352
        }
      ]
    },
    {
      "cell_type": "code",
      "metadata": {
        "colab": {
          "base_uri": "https://localhost:8080/"
        },
        "id": "DLZPuwln_OaT",
        "outputId": "0ae25186-89d5-4854-f918-69ad05f3ac3d"
      },
      "source": [
        "clf_train[\"Age\"].unique()"
      ],
      "execution_count": null,
      "outputs": [
        {
          "output_type": "execute_result",
          "data": {
            "text/plain": [
              "array([50, 48, 34, 43, 29, 62, 47, 57, 23, 63, 42, 60, 22, 25, 24, 33, 66,\n",
              "       37, 39, 31, 55, 49, 38, 77, 36, 80, 21, 26, 40, 27, 56, 44, 20, 68,\n",
              "       54, 64, 59, 52, 69, 46, 32, 30, 58, 51, 70, 41, 53, 61, 73, 28, 72,\n",
              "       45, 35, 67, 75, 79, 71, 78, 65, 83, 76, 74, 84, 85, 81, 82])"
            ]
          },
          "metadata": {
            "tags": []
          },
          "execution_count": 2353
        }
      ]
    },
    {
      "cell_type": "code",
      "metadata": {
        "colab": {
          "base_uri": "https://localhost:8080/"
        },
        "id": "M8HLpSWn_TSr",
        "outputId": "5e867f2a-5e2e-4010-8857-32968d6efd7a"
      },
      "source": [
        "clf_train[\"Policy_Sales_Channel\"].unique()"
      ],
      "execution_count": null,
      "outputs": [
        {
          "output_type": "execute_result",
          "data": {
            "text/plain": [
              "array([124, 156, 152,  26, 131, 154,  10, 160, 122,  24,  13, 155, 147,\n",
              "       157, 121,  14,  30, 151,  25, 163,  40, 138,   8,  12,  16, 120,\n",
              "        15,   4, 109,  61,  29,  23,   1,  60,  22,  31,  92,  87, 125,\n",
              "        52, 150,   3,  94,  55,  11,  18,   9, 133, 153,   7, 136,  19,\n",
              "        63,  35, 132,  95, 158, 140,  78,  81,  59, 113, 103, 105,  47,\n",
              "       116,  73,  53,  97, 127, 108, 145,  91, 111,  54,  93, 130, 146,\n",
              "       135,  46, 129,  42, 148, 117,  80,  20,  21,  45, 139,  88,  37,\n",
              "       119,  44, 107,  98,  32, 128,  56, 134,  36,  86, 159,  96, 100,\n",
              "        49, 114,  90, 126, 106,  64,   6,  65,  39,  17, 101,  79,  62,\n",
              "       118,  48, 115,  58,  71,  75, 102,  51,  57, 137,  89,   2,  66,\n",
              "        27, 104,  41,  82,  38,  70,  83, 110,  99,  69,  50,  74,  68,\n",
              "        67,  34, 112,  33,  76,  28, 143,  84])"
            ]
          },
          "metadata": {
            "tags": []
          },
          "execution_count": 2354
        }
      ]
    },
    {
      "cell_type": "markdown",
      "metadata": {
        "id": "K31y6OgX_fFY"
      },
      "source": [
        "#### in the above section the numbers are having a huge difference so le us do the nomarlization or scaling to numbers , so that the numbers are in certain range"
      ]
    },
    {
      "cell_type": "code",
      "metadata": {
        "id": "0x74YMfh_akD"
      },
      "source": [
        "from sklearn.preprocessing import StandardScaler\n",
        "scale_feat = StandardScaler()\n",
        "faeture_scaled = scale_feat.fit_transform(clf_features)"
      ],
      "execution_count": null,
      "outputs": []
    },
    {
      "cell_type": "code",
      "metadata": {
        "colab": {
          "base_uri": "https://localhost:8080/"
        },
        "id": "qK3_7HTnBpok",
        "outputId": "fb5dab42-eb18-410c-b0d1-6e4f3af782a7"
      },
      "source": [
        "faeture_scaled"
      ],
      "execution_count": null,
      "outputs": [
        {
          "output_type": "execute_result",
          "data": {
            "text/plain": [
              "array([[ 0.92183747,  0.71952278,  0.04615089, ...,  0.99051034,\n",
              "         0.22094799,  1.02381674],\n",
              "       [-1.08478993,  0.59066213,  0.04615089, ...,  0.99051034,\n",
              "         0.22094799,  1.42996573],\n",
              "       [-1.08478993, -0.31136241,  0.04615089, ...,  0.99051034,\n",
              "         0.81122212, -0.19463025],\n",
              "       ...,\n",
              "       [-1.08478993,  0.46180148,  0.04615089, ...,  0.99051034,\n",
              "         0.77432999,  0.00844425],\n",
              "       [-1.08478993,  2.45914154,  0.04615089, ..., -1.00958057,\n",
              "         0.18405585, -1.12638382],\n",
              "       [-1.08478993, -0.89123533,  0.04615089, ..., -1.00958057,\n",
              "         0.73743785, -0.4096503 ]])"
            ]
          },
          "metadata": {
            "tags": []
          },
          "execution_count": 2356
        }
      ]
    },
    {
      "cell_type": "markdown",
      "metadata": {
        "id": "hGbyX2SCB4_u"
      },
      "source": [
        "#### Now let us train the model"
      ]
    },
    {
      "cell_type": "code",
      "metadata": {
        "id": "1Qc7DTmnBtV3"
      },
      "source": [
        "from sklearn.model_selection import train_test_split\n",
        "trainx,testx,trainy,testy = train_test_split(faeture_scaled,clf_target,test_size = 0.25,random_state=40)"
      ],
      "execution_count": null,
      "outputs": []
    },
    {
      "cell_type": "code",
      "metadata": {
        "colab": {
          "base_uri": "https://localhost:8080/"
        },
        "id": "bgp1yly9CRfM",
        "outputId": "5b805c8e-e25c-43af-cd0b-255c76e2e1c9"
      },
      "source": [
        "print(trainx.shape,testx.shape)"
      ],
      "execution_count": null,
      "outputs": [
        {
          "output_type": "stream",
          "text": [
            "(228665, 8) (76222, 8)\n"
          ],
          "name": "stdout"
        }
      ]
    },
    {
      "cell_type": "code",
      "metadata": {
        "colab": {
          "base_uri": "https://localhost:8080/"
        },
        "id": "nNiExA_iCY6U",
        "outputId": "2b221cf6-ed4c-4487-ec93-bc7d987e9bc7"
      },
      "source": [
        "from sklearn.linear_model import LogisticRegression\n",
        "log_model = LogisticRegression()\n",
        "log_model.fit(trainx,trainy)"
      ],
      "execution_count": null,
      "outputs": [
        {
          "output_type": "stream",
          "text": [
            "/usr/local/lib/python3.6/dist-packages/sklearn/utils/validation.py:760: DataConversionWarning: A column-vector y was passed when a 1d array was expected. Please change the shape of y to (n_samples, ), for example using ravel().\n",
            "  y = column_or_1d(y, warn=True)\n"
          ],
          "name": "stderr"
        },
        {
          "output_type": "execute_result",
          "data": {
            "text/plain": [
              "LogisticRegression(C=1.0, class_weight=None, dual=False, fit_intercept=True,\n",
              "                   intercept_scaling=1, l1_ratio=None, max_iter=100,\n",
              "                   multi_class='auto', n_jobs=None, penalty='l2',\n",
              "                   random_state=None, solver='lbfgs', tol=0.0001, verbose=0,\n",
              "                   warm_start=False)"
            ]
          },
          "metadata": {
            "tags": []
          },
          "execution_count": 2359
        }
      ]
    },
    {
      "cell_type": "markdown",
      "metadata": {
        "id": "YcEJylVsCsok"
      },
      "source": [
        "#### before we test the data on the TEST data set let us label the data and normalize the data that model can easily predict the data"
      ]
    },
    {
      "cell_type": "code",
      "metadata": {
        "id": "TNEavmUXComZ"
      },
      "source": [
        "clf_test[\"Gender\"].replace([\"Male\",\"Female\"],[1,0],inplace = True)"
      ],
      "execution_count": null,
      "outputs": []
    },
    {
      "cell_type": "code",
      "metadata": {
        "id": "6Uxns7tVDHey"
      },
      "source": [
        "clf_test[\"Vehicle_Age\"].replace([\"1-2 Year\",\"< 1 Year\",\"> 2 Years\"],[1,0,2],inplace = True)"
      ],
      "execution_count": null,
      "outputs": []
    },
    {
      "cell_type": "code",
      "metadata": {
        "id": "IZuPvuggDVSC"
      },
      "source": [
        "clf_test[\"Vehicle_Damage\"].replace([\"Yes\",\"No\"],[1,0],inplace = True)"
      ],
      "execution_count": null,
      "outputs": []
    },
    {
      "cell_type": "code",
      "metadata": {
        "id": "KIOM8FGmRLD6"
      },
      "source": [
        "clf_test1 = clf_test.drop([\"id\",\"Region_Code\",\"Annual_Premium\"],axis=1)"
      ],
      "execution_count": null,
      "outputs": []
    },
    {
      "cell_type": "code",
      "metadata": {
        "colab": {
          "base_uri": "https://localhost:8080/",
          "height": 198
        },
        "id": "d9gp9c8HDcNR",
        "outputId": "4c5a8f4c-1b4b-45f3-e900-e99ff2086426"
      },
      "source": [
        "clf_test1.head()"
      ],
      "execution_count": null,
      "outputs": [
        {
          "output_type": "execute_result",
          "data": {
            "text/html": [
              "<div>\n",
              "<style scoped>\n",
              "    .dataframe tbody tr th:only-of-type {\n",
              "        vertical-align: middle;\n",
              "    }\n",
              "\n",
              "    .dataframe tbody tr th {\n",
              "        vertical-align: top;\n",
              "    }\n",
              "\n",
              "    .dataframe thead th {\n",
              "        text-align: right;\n",
              "    }\n",
              "</style>\n",
              "<table border=\"1\" class=\"dataframe\">\n",
              "  <thead>\n",
              "    <tr style=\"text-align: right;\">\n",
              "      <th></th>\n",
              "      <th>Gender</th>\n",
              "      <th>Age</th>\n",
              "      <th>Driving_License</th>\n",
              "      <th>Previously_Insured</th>\n",
              "      <th>Vehicle_Age</th>\n",
              "      <th>Vehicle_Damage</th>\n",
              "      <th>Policy_Sales_Channel</th>\n",
              "      <th>Vintage</th>\n",
              "    </tr>\n",
              "  </thead>\n",
              "  <tbody>\n",
              "    <tr>\n",
              "      <th>0</th>\n",
              "      <td>1</td>\n",
              "      <td>31</td>\n",
              "      <td>1</td>\n",
              "      <td>0</td>\n",
              "      <td>1</td>\n",
              "      <td>1</td>\n",
              "      <td>156</td>\n",
              "      <td>152</td>\n",
              "    </tr>\n",
              "    <tr>\n",
              "      <th>1</th>\n",
              "      <td>0</td>\n",
              "      <td>24</td>\n",
              "      <td>1</td>\n",
              "      <td>1</td>\n",
              "      <td>0</td>\n",
              "      <td>0</td>\n",
              "      <td>152</td>\n",
              "      <td>267</td>\n",
              "    </tr>\n",
              "    <tr>\n",
              "      <th>2</th>\n",
              "      <td>0</td>\n",
              "      <td>25</td>\n",
              "      <td>1</td>\n",
              "      <td>1</td>\n",
              "      <td>0</td>\n",
              "      <td>0</td>\n",
              "      <td>152</td>\n",
              "      <td>139</td>\n",
              "    </tr>\n",
              "    <tr>\n",
              "      <th>3</th>\n",
              "      <td>1</td>\n",
              "      <td>49</td>\n",
              "      <td>1</td>\n",
              "      <td>0</td>\n",
              "      <td>1</td>\n",
              "      <td>1</td>\n",
              "      <td>26</td>\n",
              "      <td>12</td>\n",
              "    </tr>\n",
              "    <tr>\n",
              "      <th>4</th>\n",
              "      <td>1</td>\n",
              "      <td>55</td>\n",
              "      <td>1</td>\n",
              "      <td>0</td>\n",
              "      <td>1</td>\n",
              "      <td>1</td>\n",
              "      <td>26</td>\n",
              "      <td>44</td>\n",
              "    </tr>\n",
              "  </tbody>\n",
              "</table>\n",
              "</div>"
            ],
            "text/plain": [
              "   Gender  Age  Driving_License  ...  Vehicle_Damage  Policy_Sales_Channel  Vintage\n",
              "0       1   31                1  ...               1                   156      152\n",
              "1       0   24                1  ...               0                   152      267\n",
              "2       0   25                1  ...               0                   152      139\n",
              "3       1   49                1  ...               1                    26       12\n",
              "4       1   55                1  ...               1                    26       44\n",
              "\n",
              "[5 rows x 8 columns]"
            ]
          },
          "metadata": {
            "tags": []
          },
          "execution_count": 2364
        }
      ]
    },
    {
      "cell_type": "markdown",
      "metadata": {
        "id": "3iDk_woyHJrY"
      },
      "source": [
        "#### Accuracy of the model without scaling or normalizing the data"
      ]
    },
    {
      "cell_type": "code",
      "metadata": {
        "id": "a-HZbgZXHR4S"
      },
      "source": [
        "model_predict = log_model.predict(clf_test1)"
      ],
      "execution_count": null,
      "outputs": []
    },
    {
      "cell_type": "code",
      "metadata": {
        "colab": {
          "base_uri": "https://localhost:8080/"
        },
        "id": "GG5TQINdHZxi",
        "outputId": "89e4f45a-7b59-4b6e-d29e-b82ffb35185b"
      },
      "source": [
        "model_predict"
      ],
      "execution_count": null,
      "outputs": [
        {
          "output_type": "execute_result",
          "data": {
            "text/plain": [
              "array([0, 0, 0, ..., 0, 0, 0])"
            ]
          },
          "metadata": {
            "tags": []
          },
          "execution_count": 2366
        }
      ]
    },
    {
      "cell_type": "code",
      "metadata": {
        "id": "hwfQHrEQHgwQ"
      },
      "source": [
        "from sklearn.metrics import accuracy_score,confusion_matrix\n",
        "confu_matrix =  confusion_matrix(model_predict,testy)\n"
      ],
      "execution_count": null,
      "outputs": []
    },
    {
      "cell_type": "code",
      "metadata": {
        "colab": {
          "base_uri": "https://localhost:8080/"
        },
        "id": "9y3KpXDzHjBP",
        "outputId": "b72e60e6-cbaf-445f-a910-b043acdfc3f8"
      },
      "source": [
        "confu_matrix"
      ],
      "execution_count": null,
      "outputs": [
        {
          "output_type": "execute_result",
          "data": {
            "text/plain": [
              "array([[66875,  9347],\n",
              "       [    0,     0]])"
            ]
          },
          "metadata": {
            "tags": []
          },
          "execution_count": 2368
        }
      ]
    },
    {
      "cell_type": "code",
      "metadata": {
        "id": "bjUP4aUXHnjx"
      },
      "source": [
        "accuracy = accuracy_score(model_predict,testy)"
      ],
      "execution_count": null,
      "outputs": []
    },
    {
      "cell_type": "code",
      "metadata": {
        "colab": {
          "base_uri": "https://localhost:8080/"
        },
        "id": "mq3tgeZTHsWM",
        "outputId": "c8236040-6ece-4db4-cb85-0e7d29c22c2c"
      },
      "source": [
        "print(np.round(accuracy*100,2),end=\"%\")"
      ],
      "execution_count": null,
      "outputs": [
        {
          "output_type": "stream",
          "text": [
            "87.74%"
          ],
          "name": "stdout"
        }
      ]
    },
    {
      "cell_type": "markdown",
      "metadata": {
        "id": "LhikmX_9H4Xd"
      },
      "source": [
        "#### After normalising or scaling the test data set the accuracy and the confusion matrix"
      ]
    },
    {
      "cell_type": "code",
      "metadata": {
        "id": "z0-Fo4DCEr88"
      },
      "source": [
        "from sklearn.preprocessing import StandardScaler\n",
        "scale_test = StandardScaler()\n",
        "test_scaled = scale_test.fit_transform(clf_test1)"
      ],
      "execution_count": null,
      "outputs": []
    },
    {
      "cell_type": "code",
      "metadata": {
        "colab": {
          "base_uri": "https://localhost:8080/"
        },
        "id": "_5fPQxTyE1L0",
        "outputId": "6521d4ff-19b5-4ccf-9de0-df340e798b62"
      },
      "source": [
        "test_scaled"
      ],
      "execution_count": null,
      "outputs": [
        {
          "output_type": "execute_result",
          "data": {
            "text/plain": [
              "array([[ 0.92037471, -0.5029147 ,  0.04643543, ...,  0.98942902,\n",
              "         0.81069509, -0.03071224],\n",
              "       [-1.08651399, -0.95524934,  0.04643543, ..., -1.01068392,\n",
              "         0.73685509,  1.34648509],\n",
              "       [-1.08651399, -0.89063011,  0.04643543, ..., -1.01068392,\n",
              "         0.73685509, -0.18639541],\n",
              "       ...,\n",
              "       [ 0.92037471,  0.78947   ,  0.04643543, ..., -1.01068392,\n",
              "         0.21997509, -0.25824918],\n",
              "       [ 0.92037471, -1.14910704,  0.04643543, ..., -1.01068392,\n",
              "         0.88453509, -0.91690877],\n",
              "       [-1.08651399,  0.27251612,  0.04643543, ...,  0.98942902,\n",
              "         0.73685509,  1.46624137]])"
            ]
          },
          "metadata": {
            "tags": []
          },
          "execution_count": 2372
        }
      ]
    },
    {
      "cell_type": "code",
      "metadata": {
        "id": "pQk9lKcrDez5"
      },
      "source": [
        "model_predict = log_model.predict(test_scaled)"
      ],
      "execution_count": null,
      "outputs": []
    },
    {
      "cell_type": "code",
      "metadata": {
        "colab": {
          "base_uri": "https://localhost:8080/",
          "height": 407
        },
        "id": "F2pZL4dYD2Dg",
        "outputId": "7b1f0134-8609-4bc8-c2e8-e6f176336150"
      },
      "source": [
        "pd.DataFrame(model_predict)"
      ],
      "execution_count": null,
      "outputs": [
        {
          "output_type": "execute_result",
          "data": {
            "text/html": [
              "<div>\n",
              "<style scoped>\n",
              "    .dataframe tbody tr th:only-of-type {\n",
              "        vertical-align: middle;\n",
              "    }\n",
              "\n",
              "    .dataframe tbody tr th {\n",
              "        vertical-align: top;\n",
              "    }\n",
              "\n",
              "    .dataframe thead th {\n",
              "        text-align: right;\n",
              "    }\n",
              "</style>\n",
              "<table border=\"1\" class=\"dataframe\">\n",
              "  <thead>\n",
              "    <tr style=\"text-align: right;\">\n",
              "      <th></th>\n",
              "      <th>0</th>\n",
              "    </tr>\n",
              "  </thead>\n",
              "  <tbody>\n",
              "    <tr>\n",
              "      <th>0</th>\n",
              "      <td>0</td>\n",
              "    </tr>\n",
              "    <tr>\n",
              "      <th>1</th>\n",
              "      <td>0</td>\n",
              "    </tr>\n",
              "    <tr>\n",
              "      <th>2</th>\n",
              "      <td>0</td>\n",
              "    </tr>\n",
              "    <tr>\n",
              "      <th>3</th>\n",
              "      <td>0</td>\n",
              "    </tr>\n",
              "    <tr>\n",
              "      <th>4</th>\n",
              "      <td>0</td>\n",
              "    </tr>\n",
              "    <tr>\n",
              "      <th>...</th>\n",
              "      <td>...</td>\n",
              "    </tr>\n",
              "    <tr>\n",
              "      <th>76217</th>\n",
              "      <td>0</td>\n",
              "    </tr>\n",
              "    <tr>\n",
              "      <th>76218</th>\n",
              "      <td>0</td>\n",
              "    </tr>\n",
              "    <tr>\n",
              "      <th>76219</th>\n",
              "      <td>0</td>\n",
              "    </tr>\n",
              "    <tr>\n",
              "      <th>76220</th>\n",
              "      <td>0</td>\n",
              "    </tr>\n",
              "    <tr>\n",
              "      <th>76221</th>\n",
              "      <td>0</td>\n",
              "    </tr>\n",
              "  </tbody>\n",
              "</table>\n",
              "<p>76222 rows × 1 columns</p>\n",
              "</div>"
            ],
            "text/plain": [
              "       0\n",
              "0      0\n",
              "1      0\n",
              "2      0\n",
              "3      0\n",
              "4      0\n",
              "...   ..\n",
              "76217  0\n",
              "76218  0\n",
              "76219  0\n",
              "76220  0\n",
              "76221  0\n",
              "\n",
              "[76222 rows x 1 columns]"
            ]
          },
          "metadata": {
            "tags": []
          },
          "execution_count": 2374
        }
      ]
    },
    {
      "cell_type": "code",
      "metadata": {
        "colab": {
          "base_uri": "https://localhost:8080/",
          "height": 407
        },
        "id": "VcE9_zS1S4Tp",
        "outputId": "c6f273cc-db11-4474-8914-29461cd07115"
      },
      "source": [
        "testy"
      ],
      "execution_count": null,
      "outputs": [
        {
          "output_type": "execute_result",
          "data": {
            "text/html": [
              "<div>\n",
              "<style scoped>\n",
              "    .dataframe tbody tr th:only-of-type {\n",
              "        vertical-align: middle;\n",
              "    }\n",
              "\n",
              "    .dataframe tbody tr th {\n",
              "        vertical-align: top;\n",
              "    }\n",
              "\n",
              "    .dataframe thead th {\n",
              "        text-align: right;\n",
              "    }\n",
              "</style>\n",
              "<table border=\"1\" class=\"dataframe\">\n",
              "  <thead>\n",
              "    <tr style=\"text-align: right;\">\n",
              "      <th></th>\n",
              "      <th>Response</th>\n",
              "    </tr>\n",
              "  </thead>\n",
              "  <tbody>\n",
              "    <tr>\n",
              "      <th>62761</th>\n",
              "      <td>0</td>\n",
              "    </tr>\n",
              "    <tr>\n",
              "      <th>99685</th>\n",
              "      <td>0</td>\n",
              "    </tr>\n",
              "    <tr>\n",
              "      <th>220460</th>\n",
              "      <td>0</td>\n",
              "    </tr>\n",
              "    <tr>\n",
              "      <th>56346</th>\n",
              "      <td>0</td>\n",
              "    </tr>\n",
              "    <tr>\n",
              "      <th>270589</th>\n",
              "      <td>0</td>\n",
              "    </tr>\n",
              "    <tr>\n",
              "      <th>...</th>\n",
              "      <td>...</td>\n",
              "    </tr>\n",
              "    <tr>\n",
              "      <th>186498</th>\n",
              "      <td>0</td>\n",
              "    </tr>\n",
              "    <tr>\n",
              "      <th>164515</th>\n",
              "      <td>0</td>\n",
              "    </tr>\n",
              "    <tr>\n",
              "      <th>202568</th>\n",
              "      <td>0</td>\n",
              "    </tr>\n",
              "    <tr>\n",
              "      <th>149437</th>\n",
              "      <td>0</td>\n",
              "    </tr>\n",
              "    <tr>\n",
              "      <th>104960</th>\n",
              "      <td>0</td>\n",
              "    </tr>\n",
              "  </tbody>\n",
              "</table>\n",
              "<p>76222 rows × 1 columns</p>\n",
              "</div>"
            ],
            "text/plain": [
              "        Response\n",
              "62761          0\n",
              "99685          0\n",
              "220460         0\n",
              "56346          0\n",
              "270589         0\n",
              "...          ...\n",
              "186498         0\n",
              "164515         0\n",
              "202568         0\n",
              "149437         0\n",
              "104960         0\n",
              "\n",
              "[76222 rows x 1 columns]"
            ]
          },
          "metadata": {
            "tags": []
          },
          "execution_count": 2375
        }
      ]
    },
    {
      "cell_type": "code",
      "metadata": {
        "id": "NJiw8KFuD4CY"
      },
      "source": [
        "from sklearn.metrics import accuracy_score,confusion_matrix\n",
        "confu_matrix =  confusion_matrix(model_predict,testy)\n"
      ],
      "execution_count": null,
      "outputs": []
    },
    {
      "cell_type": "code",
      "metadata": {
        "colab": {
          "base_uri": "https://localhost:8080/"
        },
        "id": "Q9JVgLKdEPtW",
        "outputId": "c56799c8-a44a-4f17-b71b-e14736225edd"
      },
      "source": [
        "confu_matrix"
      ],
      "execution_count": null,
      "outputs": [
        {
          "output_type": "execute_result",
          "data": {
            "text/plain": [
              "array([[66841,  9342],\n",
              "       [   34,     5]])"
            ]
          },
          "metadata": {
            "tags": []
          },
          "execution_count": 2377
        }
      ]
    },
    {
      "cell_type": "code",
      "metadata": {
        "colab": {
          "base_uri": "https://localhost:8080/"
        },
        "id": "bWnYXhsdFd_r",
        "outputId": "e23010a7-ca90-4af3-a22a-a3f0bace32d3"
      },
      "source": [
        "print(testx.shape,testy.shape)"
      ],
      "execution_count": null,
      "outputs": [
        {
          "output_type": "stream",
          "text": [
            "(76222, 8) (76222, 1)\n"
          ],
          "name": "stdout"
        }
      ]
    },
    {
      "cell_type": "code",
      "metadata": {
        "id": "ZvUhVCwJFrgs"
      },
      "source": [
        "accuracy =  accuracy_score(model_predict,testy)"
      ],
      "execution_count": null,
      "outputs": []
    },
    {
      "cell_type": "code",
      "metadata": {
        "colab": {
          "base_uri": "https://localhost:8080/"
        },
        "id": "sa4LWkV-F1zT",
        "outputId": "4a51376f-ba84-4d1b-b49c-d686dc98ac65"
      },
      "source": [
        "print(np.round(accuracy*100,2),end=\"%\")"
      ],
      "execution_count": null,
      "outputs": [
        {
          "output_type": "stream",
          "text": [
            "87.7%"
          ],
          "name": "stdout"
        }
      ]
    },
    {
      "cell_type": "code",
      "metadata": {
        "id": "yPlhSHzLF9M6"
      },
      "source": [
        "from sklearn.metrics import precision_score,f1_score,recall_score,classification_report\n",
        "Precision_score = precision_score(testy,model_predict)\n",
        "F1_score = f1_score(testy,model_predict)\n",
        "Recall_score = recall_score(testy,model_predict)"
      ],
      "execution_count": null,
      "outputs": []
    },
    {
      "cell_type": "code",
      "metadata": {
        "colab": {
          "base_uri": "https://localhost:8080/"
        },
        "id": "KHqjTz9AI49U",
        "outputId": "a62090c9-b633-4f78-9f4a-3ae9fbf52ea5"
      },
      "source": [
        "print(\"precision_score: \",np.round(Precision_score,4))\n",
        "print(\"F1_score: \",np.round(F1_score,4))\n",
        "print(\"Recall_score: \",np.round(Recall_score,4))"
      ],
      "execution_count": null,
      "outputs": [
        {
          "output_type": "stream",
          "text": [
            "precision_score:  0.1282\n",
            "F1_score:  0.0011\n",
            "Recall_score:  0.0005\n"
          ],
          "name": "stdout"
        }
      ]
    },
    {
      "cell_type": "code",
      "metadata": {
        "colab": {
          "base_uri": "https://localhost:8080/"
        },
        "id": "2nT8JaJ7I7yL",
        "outputId": "2a17c89b-2153-4ed8-a298-ddd88066cc7f"
      },
      "source": [
        "print(classification_report(testy,model_predict))"
      ],
      "execution_count": null,
      "outputs": [
        {
          "output_type": "stream",
          "text": [
            "              precision    recall  f1-score   support\n",
            "\n",
            "           0       0.88      1.00      0.93     66875\n",
            "           1       0.13      0.00      0.00      9347\n",
            "\n",
            "    accuracy                           0.88     76222\n",
            "   macro avg       0.50      0.50      0.47     76222\n",
            "weighted avg       0.79      0.88      0.82     76222\n",
            "\n"
          ],
          "name": "stdout"
        }
      ]
    }
  ]
}