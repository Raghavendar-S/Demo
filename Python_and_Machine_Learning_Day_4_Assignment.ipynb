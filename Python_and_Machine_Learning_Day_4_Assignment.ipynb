{
  "nbformat": 4,
  "nbformat_minor": 0,
  "metadata": {
    "colab": {
      "provenance": []
    },
    "kernelspec": {
      "name": "python3",
      "display_name": "Python 3"
    },
    "language_info": {
      "name": "python"
    }
  },
  "cells": [
    {
      "cell_type": "code",
      "source": [
        "import numpy as np\n",
        "ages = [5,31,43,48,50,41,7,11,15,39,80,82,32,2,8,6,25,36,27,61,31]\n",
        "x = np.percentile(ages, 25)\n",
        "y = np.percentile(ages, 75)\n",
        "z=np.mean(ages)\n",
        "a=np.std(ages)\n",
        "print(round(a))\n",
        "print(x)\n",
        "print(y)\n",
        "print(round(z))"
      ],
      "metadata": {
        "colab": {
          "base_uri": "https://localhost:8080/"
        },
        "id": "Elt_Zq3Dno_v",
        "outputId": "464e9efc-f8ef-4f96-9955-bacf3de79f34"
      },
      "execution_count": 5,
      "outputs": [
        {
          "output_type": "stream",
          "name": "stdout",
          "text": [
            "23\n",
            "11.0\n",
            "43.0\n",
            "32\n"
          ]
        }
      ]
    }
  ]
}